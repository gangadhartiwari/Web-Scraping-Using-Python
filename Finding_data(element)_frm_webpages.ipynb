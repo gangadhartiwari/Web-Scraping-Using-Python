{
 "cells": [
  {
   "cell_type": "markdown",
   "id": "d4a52ea6-aa37-4b34-a3b1-d8af7f5f8ccc",
   "metadata": {},
   "source": [
    "<h2 style = \"color:yellow\">Finding Elements in Web Pages using Python</h2>"
   ]
  },
  {
   "cell_type": "markdown",
   "id": "94e87a16-1dc1-4dd6-90d0-416d56bddb18",
   "metadata": {},
   "source": [
    "<h3 style = \"color:aqua\">--> Finding Elements By Class</h3>"
   ]
  },
  {
   "cell_type": "code",
   "execution_count": null,
   "id": "82db61f6-ff17-44e9-879d-3df4371612a9",
   "metadata": {},
   "outputs": [],
   "source": [
    "# importing necessary module or class\n",
    "\n",
    "import requests\n",
    "from bs4 import BeautifulSoup"
   ]
  },
  {
   "cell_type": "code",
   "execution_count": 2,
   "id": "d0029fc9-6157-4b57-992a-1c962efaecd2",
   "metadata": {},
   "outputs": [
    {
     "data": {
      "text/plain": [
       "<Response [200]>"
      ]
     },
     "execution_count": 2,
     "metadata": {},
     "output_type": "execute_result"
    }
   ],
   "source": [
    "web = requests.get(\"https://www.tutorialsfreak.com/\")\n",
    "web     # Here the data is stored in web but not in structured format "
   ]
  },
  {
   "cell_type": "code",
   "execution_count": 5,
   "id": "6c6de422-f828-491c-8b92-587399a0e6b3",
   "metadata": {},
   "outputs": [],
   "source": [
    "soup = BeautifulSoup(web.content, \"html.parser\")   "
   ]
  },
  {
   "cell_type": "code",
   "execution_count": 21,
   "id": "cbaa620c-9cdb-433f-bd27-b914490688ac",
   "metadata": {},
   "outputs": [],
   "source": [
    "# print(soup.prettify())     # beutify the data in tree structured"
   ]
  },
  {
   "cell_type": "code",
   "execution_count": 8,
   "id": "872dd7fa-f7f4-4db5-b333-2fa96c92b758",
   "metadata": {},
   "outputs": [
    {
     "data": {
      "text/plain": [
       "[<p class=\"section-subheading\">Kickstart effective learning with Tutorials Freak, with new content published every day.</p>,\n",
       " <p class=\"fs-16 fw-400 lh-24 label-color-1 card-text\">The entire content on the site is verified by pro developers and tech freaks.</p>,\n",
       " <p class=\"fs-16 fw-400 lh-24 label-color-1 card-text\">The entire content on the site is verified by pro developers and tech freaks. Enabling self-directed learning so that you can learn at your pace and shape your own path.</p>,\n",
       " <p class=\"fs-16 fw-400 lh-24 label-color-1 card-text\">Along with simplified tutorials, you get video content created by industry experts.</p>,\n",
       " <p class=\"fw-400 fs-20 lh-30 label-color-2 mb-lg-5\">Learning programming and technical things can be complex. We are here to make it easy with simple and interactive tutorials.</p>,\n",
       " <p class=\"section-subheading mb-0\">Learning programming and technical things can be complex. We are here to make it easy with simple and interactive tutorials.</p>,\n",
       " <p class=\"section-subheading mb-0\">Explore the expert-curated interview questions with answers.</p>,\n",
       " <p class=\"section-subheading mb-0\">Plenty of quizzes with time duration and skill assessment.</p>,\n",
       " <p class=\"section-subheading mb-0\">Find coding examples with programs, output, easy explanations, and videos.</p>,\n",
       " <p class=\"section-subheading mb-0\"><img class=\"img-fluid\" height=\"40\" src=\"/images/ws-cube-tech-logo.svg\" width=\"210\"/></p>,\n",
       " <p class=\"section-subheading pb-lg-5\">With an account, you get access to premium content and courses at no cost.</p>,\n",
       " <p class=\"section-subheading pe-md-5\">Download the app now to learn and practice hassle-free.</p>,\n",
       " <p class=\"fs-13 lh-24 label-color-1 mb-0 footer-content fw-500 text-center text-lg-end\">© <!-- --> Tutorials Freak . All Rights Reserved | Design By  <a class=\"text-decoration-none label-color-1 fw-400\" href=\"https://www.wscubetech.com/\" rel=\"noreferrer\" target=\"_blank\" title=\"WsCube Tech\">WsCube Tech</a></p>]"
      ]
     },
     "execution_count": 8,
     "metadata": {},
     "output_type": "execute_result"
    }
   ],
   "source": [
    "soup.find_all('p')"
   ]
  },
  {
   "cell_type": "code",
   "execution_count": 15,
   "id": "8580efe0-aa36-42fe-822f-b8f1955079df",
   "metadata": {},
   "outputs": [],
   "source": [
    "# if you want to get the data of an class then you have to do this \n",
    "\n",
    "class_data = soup.find(\"div\", class_ = \"wrapperr h-100\")"
   ]
  },
  {
   "cell_type": "code",
   "execution_count": 22,
   "id": "07f4814b-250f-452d-8aa8-f227e0bb57cd",
   "metadata": {},
   "outputs": [],
   "source": [
    "# class_data"
   ]
  },
  {
   "cell_type": "code",
   "execution_count": 17,
   "id": "e3c8519f-2d31-4aed-8386-ecf017eb4aad",
   "metadata": {},
   "outputs": [
    {
     "data": {
      "text/plain": [
       "[<p class=\"section-subheading\">Kickstart effective learning with Tutorials Freak, with new content published every day.</p>,\n",
       " <p class=\"fs-16 fw-400 lh-24 label-color-1 card-text\">The entire content on the site is verified by pro developers and tech freaks.</p>,\n",
       " <p class=\"fs-16 fw-400 lh-24 label-color-1 card-text\">The entire content on the site is verified by pro developers and tech freaks. Enabling self-directed learning so that you can learn at your pace and shape your own path.</p>,\n",
       " <p class=\"fs-16 fw-400 lh-24 label-color-1 card-text\">Along with simplified tutorials, you get video content created by industry experts.</p>,\n",
       " <p class=\"fw-400 fs-20 lh-30 label-color-2 mb-lg-5\">Learning programming and technical things can be complex. We are here to make it easy with simple and interactive tutorials.</p>,\n",
       " <p class=\"section-subheading mb-0\">Learning programming and technical things can be complex. We are here to make it easy with simple and interactive tutorials.</p>,\n",
       " <p class=\"section-subheading mb-0\">Explore the expert-curated interview questions with answers.</p>,\n",
       " <p class=\"section-subheading mb-0\">Plenty of quizzes with time duration and skill assessment.</p>,\n",
       " <p class=\"section-subheading mb-0\">Find coding examples with programs, output, easy explanations, and videos.</p>,\n",
       " <p class=\"section-subheading mb-0\"><img class=\"img-fluid\" height=\"40\" src=\"/images/ws-cube-tech-logo.svg\" width=\"210\"/></p>,\n",
       " <p class=\"section-subheading pb-lg-5\">With an account, you get access to premium content and courses at no cost.</p>,\n",
       " <p class=\"section-subheading pe-md-5\">Download the app now to learn and practice hassle-free.</p>,\n",
       " <p class=\"fs-13 lh-24 label-color-1 mb-0 footer-content fw-500 text-center text-lg-end\">© <!-- --> Tutorials Freak . All Rights Reserved | Design By  <a class=\"text-decoration-none label-color-1 fw-400\" href=\"https://www.wscubetech.com/\" rel=\"noreferrer\" target=\"_blank\" title=\"WsCube Tech\">WsCube Tech</a></p>]"
      ]
     },
     "execution_count": 17,
     "metadata": {},
     "output_type": "execute_result"
    }
   ],
   "source": [
    "class_data.find_all(\"p\")"
   ]
  },
  {
   "cell_type": "markdown",
   "id": "e9c6c746-2543-4eba-af9e-00eb09d2f759",
   "metadata": {},
   "source": [
    "<h3 style = \"color:aqua\">--> Finding Elements By ID</h3>"
   ]
  },
  {
   "cell_type": "code",
   "execution_count": 18,
   "id": "b7d51f1b-8da5-4259-8646-bdcb86d0f0e2",
   "metadata": {},
   "outputs": [],
   "source": [
    "id_data = soup.find(\"div\", id = \"__next\")"
   ]
  },
  {
   "cell_type": "code",
   "execution_count": 20,
   "id": "01aa60d9-a996-46b9-b746-deb916b95789",
   "metadata": {},
   "outputs": [
    {
     "data": {
      "text/plain": [
       "[<p class=\"section-subheading\">Kickstart effective learning with Tutorials Freak, with new content published every day.</p>,\n",
       " <p class=\"fs-16 fw-400 lh-24 label-color-1 card-text\">The entire content on the site is verified by pro developers and tech freaks.</p>,\n",
       " <p class=\"fs-16 fw-400 lh-24 label-color-1 card-text\">The entire content on the site is verified by pro developers and tech freaks. Enabling self-directed learning so that you can learn at your pace and shape your own path.</p>,\n",
       " <p class=\"fs-16 fw-400 lh-24 label-color-1 card-text\">Along with simplified tutorials, you get video content created by industry experts.</p>,\n",
       " <p class=\"fw-400 fs-20 lh-30 label-color-2 mb-lg-5\">Learning programming and technical things can be complex. We are here to make it easy with simple and interactive tutorials.</p>,\n",
       " <p class=\"section-subheading mb-0\">Learning programming and technical things can be complex. We are here to make it easy with simple and interactive tutorials.</p>,\n",
       " <p class=\"section-subheading mb-0\">Explore the expert-curated interview questions with answers.</p>,\n",
       " <p class=\"section-subheading mb-0\">Plenty of quizzes with time duration and skill assessment.</p>,\n",
       " <p class=\"section-subheading mb-0\">Find coding examples with programs, output, easy explanations, and videos.</p>,\n",
       " <p class=\"section-subheading mb-0\"><img class=\"img-fluid\" height=\"40\" src=\"/images/ws-cube-tech-logo.svg\" width=\"210\"/></p>,\n",
       " <p class=\"section-subheading pb-lg-5\">With an account, you get access to premium content and courses at no cost.</p>,\n",
       " <p class=\"section-subheading pe-md-5\">Download the app now to learn and practice hassle-free.</p>,\n",
       " <p class=\"fs-13 lh-24 label-color-1 mb-0 footer-content fw-500 text-center text-lg-end\">© <!-- --> Tutorials Freak . All Rights Reserved | Design By  <a class=\"text-decoration-none label-color-1 fw-400\" href=\"https://www.wscubetech.com/\" rel=\"noreferrer\" target=\"_blank\" title=\"WsCube Tech\">WsCube Tech</a></p>]"
      ]
     },
     "execution_count": 20,
     "metadata": {},
     "output_type": "execute_result"
    }
   ],
   "source": [
    "id_data.find_all(\"p\")"
   ]
  },
  {
   "cell_type": "markdown",
   "id": "ff6c8c56-978e-41cd-a705-475e3ff12133",
   "metadata": {},
   "source": [
    "<h2 style = \"color:yellow\">Extracting Text From The Tags in web pages using Python</h2>"
   ]
  },
  {
   "cell_type": "code",
   "execution_count": 23,
   "id": "ecd3f94e-4ed7-4f82-ba88-9e8ec882da9c",
   "metadata": {},
   "outputs": [],
   "source": [
    "lines = soup.find_all(\"p\")"
   ]
  },
  {
   "cell_type": "code",
   "execution_count": 24,
   "id": "5c071d60-31cb-477f-be8d-de188b9a4514",
   "metadata": {},
   "outputs": [
    {
     "data": {
      "text/plain": [
       "[<p class=\"section-subheading\">Kickstart effective learning with Tutorials Freak, with new content published every day.</p>,\n",
       " <p class=\"fs-16 fw-400 lh-24 label-color-1 card-text\">The entire content on the site is verified by pro developers and tech freaks.</p>,\n",
       " <p class=\"fs-16 fw-400 lh-24 label-color-1 card-text\">The entire content on the site is verified by pro developers and tech freaks. Enabling self-directed learning so that you can learn at your pace and shape your own path.</p>,\n",
       " <p class=\"fs-16 fw-400 lh-24 label-color-1 card-text\">Along with simplified tutorials, you get video content created by industry experts.</p>,\n",
       " <p class=\"fw-400 fs-20 lh-30 label-color-2 mb-lg-5\">Learning programming and technical things can be complex. We are here to make it easy with simple and interactive tutorials.</p>,\n",
       " <p class=\"section-subheading mb-0\">Learning programming and technical things can be complex. We are here to make it easy with simple and interactive tutorials.</p>,\n",
       " <p class=\"section-subheading mb-0\">Explore the expert-curated interview questions with answers.</p>,\n",
       " <p class=\"section-subheading mb-0\">Plenty of quizzes with time duration and skill assessment.</p>,\n",
       " <p class=\"section-subheading mb-0\">Find coding examples with programs, output, easy explanations, and videos.</p>,\n",
       " <p class=\"section-subheading mb-0\"><img class=\"img-fluid\" height=\"40\" src=\"/images/ws-cube-tech-logo.svg\" width=\"210\"/></p>,\n",
       " <p class=\"section-subheading pb-lg-5\">With an account, you get access to premium content and courses at no cost.</p>,\n",
       " <p class=\"section-subheading pe-md-5\">Download the app now to learn and practice hassle-free.</p>,\n",
       " <p class=\"fs-13 lh-24 label-color-1 mb-0 footer-content fw-500 text-center text-lg-end\">© <!-- --> Tutorials Freak . All Rights Reserved | Design By  <a class=\"text-decoration-none label-color-1 fw-400\" href=\"https://www.wscubetech.com/\" rel=\"noreferrer\" target=\"_blank\" title=\"WsCube Tech\">WsCube Tech</a></p>]"
      ]
     },
     "execution_count": 24,
     "metadata": {},
     "output_type": "execute_result"
    }
   ],
   "source": [
    "lines"
   ]
  },
  {
   "cell_type": "code",
   "execution_count": 25,
   "id": "ec1c3abc-c70c-4c92-b8d6-5599086dcb61",
   "metadata": {},
   "outputs": [
    {
     "name": "stdout",
     "output_type": "stream",
     "text": [
      "Kickstart effective learning with Tutorials Freak, with new content published every day.\n",
      "The entire content on the site is verified by pro developers and tech freaks.\n",
      "The entire content on the site is verified by pro developers and tech freaks. Enabling self-directed learning so that you can learn at your pace and shape your own path.\n",
      "Along with simplified tutorials, you get video content created by industry experts.\n",
      "Learning programming and technical things can be complex. We are here to make it easy with simple and interactive tutorials.\n",
      "Learning programming and technical things can be complex. We are here to make it easy with simple and interactive tutorials.\n",
      "Explore the expert-curated interview questions with answers.\n",
      "Plenty of quizzes with time duration and skill assessment.\n",
      "Find coding examples with programs, output, easy explanations, and videos.\n",
      "\n",
      "With an account, you get access to premium content and courses at no cost.\n",
      "Download the app now to learn and practice hassle-free.\n",
      "©  Tutorials Freak . All Rights Reserved | Design By  WsCube Tech\n"
     ]
    }
   ],
   "source": [
    "for l in lines: \n",
    "    print(l.text)"
   ]
  },
  {
   "cell_type": "code",
   "execution_count": 26,
   "id": "6e49b2eb-f993-4eeb-bd98-080aad71ffca",
   "metadata": {},
   "outputs": [],
   "source": [
    "s = soup.find(\"div\", class_ = \"why-choose-card card-shadow card\")"
   ]
  },
  {
   "cell_type": "code",
   "execution_count": 27,
   "id": "b1c63e4d-6f3f-44bd-9398-79008aebfb87",
   "metadata": {},
   "outputs": [
    {
     "data": {
      "text/plain": [
       "<div class=\"why-choose-card card-shadow card\"><div class=\"why-choose-us-img\"><span style=\"box-sizing:border-box;display:inline-block;overflow:hidden;width:initial;height:initial;background:none;opacity:1;border:0;margin:0;padding:0;position:relative;max-width:100%\"><span style=\"box-sizing:border-box;display:block;width:initial;height:initial;background:none;opacity:1;border:0;margin:0;padding:0;max-width:100%\"><img alt=\"\" aria-hidden=\"true\" src=\"data:image/svg+xml,%3csvg%20xmlns=%27http://www.w3.org/2000/svg%27%20version=%271.1%27%20width=%2748%27%20height=%2748%27/%3e\" style=\"display:block;max-width:100%;width:initial;height:initial;background:none;opacity:1;border:0;margin:0;padding:0\"/></span><img alt=\"Why-Choose-Img\" data-nimg=\"intrinsic\" decoding=\"async\" src=\"data:image/gif;base64,R0lGODlhAQABAIAAAAAAAP///yH5BAEAAAAALAAAAAABAAEAAAIBRAA7\" style=\"position:absolute;top:0;left:0;bottom:0;right:0;box-sizing:border-box;padding:0;border:none;margin:auto;display:block;width:0;height:0;min-width:100%;max-width:100%;min-height:100%;max-height:100%\"/><noscript><img alt=\"Why-Choose-Img\" data-nimg=\"intrinsic\" decoding=\"async\" loading=\"lazy\" src=\"https://d20evgacl8spoj.cloudfront.net/uploads/learning-course/images/home-page/2cd6e0d7-4864-4837-a4a7-e0b120282e8d-1648197173.svg\" srcset=\"https://d20evgacl8spoj.cloudfront.net/uploads/learning-course/images/home-page/2cd6e0d7-4864-4837-a4a7-e0b120282e8d-1648197173.svg 1x, https://d20evgacl8spoj.cloudfront.net/uploads/learning-course/images/home-page/2cd6e0d7-4864-4837-a4a7-e0b120282e8d-1648197173.svg 2x\" style=\"position:absolute;top:0;left:0;bottom:0;right:0;box-sizing:border-box;padding:0;border:none;margin:auto;display:block;width:0;height:0;min-width:100%;max-width:100%;min-height:100%;max-height:100%\"/></noscript></span></div><h3 class=\"fs-20 lh-30 fw-600 label-color-5\">Verified &amp; Reliable Content</h3><p class=\"fs-16 fw-400 lh-24 label-color-1 card-text\">The entire content on the site is verified by pro developers and tech freaks.</p></div>"
      ]
     },
     "execution_count": 27,
     "metadata": {},
     "output_type": "execute_result"
    }
   ],
   "source": [
    "s "
   ]
  },
  {
   "cell_type": "code",
   "execution_count": 28,
   "id": "b28c093c-fbb0-4445-b58c-beab92634c38",
   "metadata": {},
   "outputs": [],
   "source": [
    "lines_1 = s.find_all(\"p\")"
   ]
  },
  {
   "cell_type": "code",
   "execution_count": 29,
   "id": "db80ae6c-be4c-4e3a-9d8e-8a5aac17ffcb",
   "metadata": {},
   "outputs": [
    {
     "data": {
      "text/plain": [
       "[<p class=\"fs-16 fw-400 lh-24 label-color-1 card-text\">The entire content on the site is verified by pro developers and tech freaks.</p>]"
      ]
     },
     "execution_count": 29,
     "metadata": {},
     "output_type": "execute_result"
    }
   ],
   "source": [
    "lines_1"
   ]
  },
  {
   "cell_type": "code",
   "execution_count": 30,
   "id": "2a69ec50-c904-4050-90c7-804719d149e4",
   "metadata": {},
   "outputs": [
    {
     "name": "stdout",
     "output_type": "stream",
     "text": [
      "The entire content on the site is verified by pro developers and tech freaks.\n"
     ]
    }
   ],
   "source": [
    "for l1 in lines_1: \n",
    "    print(l1.text)"
   ]
  },
  {
   "cell_type": "markdown",
   "id": "944db155-94b5-4aaf-a982-85530387de7e",
   "metadata": {},
   "source": [
    "<h2 style = \"color:yellow\">Extracting links from Web Pages using Python</h2>"
   ]
  },
  {
   "cell_type": "code",
   "execution_count": 32,
   "id": "3050d44f-859f-4406-b4a1-f9ccd9a730b9",
   "metadata": {},
   "outputs": [
    {
     "name": "stdout",
     "output_type": "stream",
     "text": [
      "/\n",
      "/search\n",
      "/\n",
      "/\n",
      "/\n",
      "/\n",
      "/\n",
      "/\n",
      "/\n",
      "/\n",
      "/compiler/c\n",
      "/compiler/css\n",
      "/compiler/html\n",
      "/compiler/jquery\n",
      "/compiler/cpp\n",
      "/compiler/php\n",
      "/compiler/python\n",
      "https://bit.ly/web-developer-course-ws\n",
      "https://bit.ly/web-developer-course-ws\n",
      "https://bit.ly/digital-marketing-course-ws\n",
      "https://bit.ly/digital-marketing-course-ws\n",
      "https://bit.ly/seo-course-ws\n",
      "https://bit.ly/seo-course-ws\n",
      "https://www.wscubetech.com/online-python-certification-course-india.html?utm_source=TutorialsFreak&utm_medium=python-tutorial&utm_campaign=leads\n",
      "https://www.wscubetech.com/online-python-certification-course-india.html?utm_source=TutorialsFreak&utm_medium=python-tutorial&utm_campaign=leads\n",
      "https://www.wscubetech.com/online-data-analytics-course.html?utm_source=TutorialsFreak&utm_medium=ai-tutorial&utm_campaign=leads\n",
      "https://www.wscubetech.com/online-data-analytics-course.html?utm_source=TutorialsFreak&utm_medium=ai-tutorial&utm_campaign=leads\n",
      "https://www.wscubetech.com/online-ethical-hacking-course.html?utm_source=TutorialsFreak&utm_medium=eh-tutorial&utm_campaign=leads\n",
      "https://www.wscubetech.com/online-ethical-hacking-course.html?utm_source=TutorialsFreak&utm_medium=eh-tutorial&utm_campaign=leads\n",
      "https://play.google.com/store/apps/details?id=com.tutorialsfreak\n",
      "/\n",
      "https://www.facebook.com/tutorialsfreak\n",
      "https://twitter.com/TutorialsFreak\n",
      "https://www.instagram.com/tutorials_freak/\n",
      "https://www.linkedin.com/company/tutorialsfreak/\n",
      "/terms-conditons\n",
      "/privacy-policy\n",
      "/about-us\n",
      "/contact-us\n",
      "https://www.wscubetech.com/\n"
     ]
    }
   ],
   "source": [
    "for i in soup.find_all(\"a\"): \n",
    "    print(i.get(\"href\"))"
   ]
  },
  {
   "cell_type": "markdown",
   "id": "a00f4e2e-fcf3-4106-86a1-514e74cc4df9",
   "metadata": {},
   "source": [
    "<h2 style = \"color:yellow\">Extracting images and or image related data from Web Pages using Python</h2>"
   ]
  },
  {
   "cell_type": "code",
   "execution_count": 33,
   "id": "a939cda0-3b31-4fb2-a3eb-6d30ba50284b",
   "metadata": {},
   "outputs": [],
   "source": [
    "img = soup.find_all(\"img\")"
   ]
  },
  {
   "cell_type": "code",
   "execution_count": 34,
   "id": "357b836c-e559-4ac3-82bd-158b7e4cc2d9",
   "metadata": {},
   "outputs": [
    {
     "data": {
      "text/plain": [
       "[<img alt=\"\" aria-hidden=\"true\" src=\"data:image/svg+xml,%3csvg%20xmlns=%27http://www.w3.org/2000/svg%27%20version=%271.1%27%20width=%27192%27%20height=%2756%27/%3e\" style=\"display:block;max-width:100%;width:initial;height:initial;background:none;opacity:1;border:0;margin:0;padding:0\"/>,\n",
       " <img alt=\"Logo-Img\" class=\"img-fluid\" data-nimg=\"intrinsic\" decoding=\"async\" src=\"data:image/gif;base64,R0lGODlhAQABAIAAAAAAAP///yH5BAEAAAAALAAAAAABAAEAAAIBRAA7\" style=\"position:absolute;top:0;left:0;bottom:0;right:0;box-sizing:border-box;padding:0;border:none;margin:auto;display:block;width:0;height:0;min-width:100%;max-width:100%;min-height:100%;max-height:100%\"/>,\n",
       " <img alt=\"Logo-Img\" class=\"img-fluid\" data-nimg=\"intrinsic\" decoding=\"async\" loading=\"lazy\" src=\"/images/tutorials-freak-logo.svg\" srcset=\"/images/tutorials-freak-logo.svg 1x, /images/tutorials-freak-logo.svg 2x\" style=\"position:absolute;top:0;left:0;bottom:0;right:0;box-sizing:border-box;padding:0;border:none;margin:auto;display:block;width:0;height:0;min-width:100%;max-width:100%;min-height:100%;max-height:100%\"/>,\n",
       " <img alt=\"Serch-Img\" src=\"/images/search.svg\"/>,\n",
       " <img alt=\"Banner-Img\" class=\"img-fluid\" data-nimg=\"responsive\" decoding=\"async\" src=\"data:image/gif;base64,R0lGODlhAQABAIAAAAAAAP///yH5BAEAAAAALAAAAAABAAEAAAIBRAA7\" style=\"position:absolute;top:0;left:0;bottom:0;right:0;box-sizing:border-box;padding:0;border:none;margin:auto;display:block;width:0;height:0;min-width:100%;max-width:100%;min-height:100%;max-height:100%\"/>,\n",
       " <img alt=\"Banner-Img\" class=\"img-fluid\" data-nimg=\"responsive\" decoding=\"async\" loading=\"lazy\" sizes=\"100vw\" src=\"/_next/image?url=%2Fimages%2Fbanner-middle.webp&amp;w=3840&amp;q=75\" srcset=\"/_next/image?url=%2Fimages%2Fbanner-middle.webp&amp;w=640&amp;q=75 640w, /_next/image?url=%2Fimages%2Fbanner-middle.webp&amp;w=750&amp;q=75 750w, /_next/image?url=%2Fimages%2Fbanner-middle.webp&amp;w=828&amp;q=75 828w, /_next/image?url=%2Fimages%2Fbanner-middle.webp&amp;w=1080&amp;q=75 1080w, /_next/image?url=%2Fimages%2Fbanner-middle.webp&amp;w=1200&amp;q=75 1200w, /_next/image?url=%2Fimages%2Fbanner-middle.webp&amp;w=1920&amp;q=75 1920w, /_next/image?url=%2Fimages%2Fbanner-middle.webp&amp;w=2048&amp;q=75 2048w, /_next/image?url=%2Fimages%2Fbanner-middle.webp&amp;w=3840&amp;q=75 3840w\" style=\"position:absolute;top:0;left:0;bottom:0;right:0;box-sizing:border-box;padding:0;border:none;margin:auto;display:block;width:0;height:0;min-width:100%;max-width:100%;min-height:100%;max-height:100%\"/>,\n",
       " <img alt=\"Course-Img\" src=\"/images/kotlin-img.svg\"/>,\n",
       " <img alt=\"Course-Img\" src=\"/images/eagle-img.svg\"/>,\n",
       " <img alt=\"Course-Img\" src=\"/images/apple-img.svg\"/>,\n",
       " <img alt=\"Course-Img\" src=\"/images/angular-img.svg\"/>,\n",
       " <img alt=\"Course-Img\" src=\"/images/python-img.svg\"/>,\n",
       " <img alt=\"Course-Img\" src=\"/images/react-img.svg\"/>,\n",
       " <img alt=\"Course-Img\" src=\"/images/android-img.svg\"/>,\n",
       " <img alt=\"Course-Img\" src=\"/images/java-img.svg\"/>,\n",
       " <img alt=\"\" aria-hidden=\"true\" src=\"data:image/svg+xml,%3csvg%20xmlns=%27http://www.w3.org/2000/svg%27%20version=%271.1%27%20width=%2748%27%20height=%2748%27/%3e\" style=\"display:block;max-width:100%;width:initial;height:initial;background:none;opacity:1;border:0;margin:0;padding:0\"/>,\n",
       " <img alt=\"Why-Choose-Img\" data-nimg=\"intrinsic\" decoding=\"async\" src=\"data:image/gif;base64,R0lGODlhAQABAIAAAAAAAP///yH5BAEAAAAALAAAAAABAAEAAAIBRAA7\" style=\"position:absolute;top:0;left:0;bottom:0;right:0;box-sizing:border-box;padding:0;border:none;margin:auto;display:block;width:0;height:0;min-width:100%;max-width:100%;min-height:100%;max-height:100%\"/>,\n",
       " <img alt=\"Why-Choose-Img\" data-nimg=\"intrinsic\" decoding=\"async\" loading=\"lazy\" src=\"https://d20evgacl8spoj.cloudfront.net/uploads/learning-course/images/home-page/2cd6e0d7-4864-4837-a4a7-e0b120282e8d-1648197173.svg\" srcset=\"https://d20evgacl8spoj.cloudfront.net/uploads/learning-course/images/home-page/2cd6e0d7-4864-4837-a4a7-e0b120282e8d-1648197173.svg 1x, https://d20evgacl8spoj.cloudfront.net/uploads/learning-course/images/home-page/2cd6e0d7-4864-4837-a4a7-e0b120282e8d-1648197173.svg 2x\" style=\"position:absolute;top:0;left:0;bottom:0;right:0;box-sizing:border-box;padding:0;border:none;margin:auto;display:block;width:0;height:0;min-width:100%;max-width:100%;min-height:100%;max-height:100%\"/>,\n",
       " <img alt=\"\" aria-hidden=\"true\" src=\"data:image/svg+xml,%3csvg%20xmlns=%27http://www.w3.org/2000/svg%27%20version=%271.1%27%20width=%2748%27%20height=%2748%27/%3e\" style=\"display:block;max-width:100%;width:initial;height:initial;background:none;opacity:1;border:0;margin:0;padding:0\"/>,\n",
       " <img alt=\"Why-Choose-Img\" data-nimg=\"intrinsic\" decoding=\"async\" src=\"data:image/gif;base64,R0lGODlhAQABAIAAAAAAAP///yH5BAEAAAAALAAAAAABAAEAAAIBRAA7\" style=\"position:absolute;top:0;left:0;bottom:0;right:0;box-sizing:border-box;padding:0;border:none;margin:auto;display:block;width:0;height:0;min-width:100%;max-width:100%;min-height:100%;max-height:100%\"/>,\n",
       " <img alt=\"Why-Choose-Img\" data-nimg=\"intrinsic\" decoding=\"async\" loading=\"lazy\" src=\"https://d20evgacl8spoj.cloudfront.net/uploads/learning-course/images/home-page/e5eb78ac-30fd-4443-8f23-63bd378c0c01-1645691302.svg\" srcset=\"https://d20evgacl8spoj.cloudfront.net/uploads/learning-course/images/home-page/e5eb78ac-30fd-4443-8f23-63bd378c0c01-1645691302.svg 1x, https://d20evgacl8spoj.cloudfront.net/uploads/learning-course/images/home-page/e5eb78ac-30fd-4443-8f23-63bd378c0c01-1645691302.svg 2x\" style=\"position:absolute;top:0;left:0;bottom:0;right:0;box-sizing:border-box;padding:0;border:none;margin:auto;display:block;width:0;height:0;min-width:100%;max-width:100%;min-height:100%;max-height:100%\"/>,\n",
       " <img alt=\"\" aria-hidden=\"true\" src=\"data:image/svg+xml,%3csvg%20xmlns=%27http://www.w3.org/2000/svg%27%20version=%271.1%27%20width=%2748%27%20height=%2748%27/%3e\" style=\"display:block;max-width:100%;width:initial;height:initial;background:none;opacity:1;border:0;margin:0;padding:0\"/>,\n",
       " <img alt=\"Why-Choose-Img\" data-nimg=\"intrinsic\" decoding=\"async\" src=\"data:image/gif;base64,R0lGODlhAQABAIAAAAAAAP///yH5BAEAAAAALAAAAAABAAEAAAIBRAA7\" style=\"position:absolute;top:0;left:0;bottom:0;right:0;box-sizing:border-box;padding:0;border:none;margin:auto;display:block;width:0;height:0;min-width:100%;max-width:100%;min-height:100%;max-height:100%\"/>,\n",
       " <img alt=\"Why-Choose-Img\" data-nimg=\"intrinsic\" decoding=\"async\" loading=\"lazy\" src=\"https://d20evgacl8spoj.cloudfront.net/uploads/learning-course/images/home-page/7f47bf14-d748-40f4-b9a5-921b1bb4df3f-1648197078.svg\" srcset=\"https://d20evgacl8spoj.cloudfront.net/uploads/learning-course/images/home-page/7f47bf14-d748-40f4-b9a5-921b1bb4df3f-1648197078.svg 1x, https://d20evgacl8spoj.cloudfront.net/uploads/learning-course/images/home-page/7f47bf14-d748-40f4-b9a5-921b1bb4df3f-1648197078.svg 2x\" style=\"position:absolute;top:0;left:0;bottom:0;right:0;box-sizing:border-box;padding:0;border:none;margin:auto;display:block;width:0;height:0;min-width:100%;max-width:100%;min-height:100%;max-height:100%\"/>,\n",
       " <img alt=\"\" class=\"img-fluid mt-5\" src=\"/images/compilor.webp\" width=\"90%\"/>,\n",
       " <img alt=\"\" aria-hidden=\"true\" src=\"data:image/svg+xml,%3csvg%20xmlns=%27http://www.w3.org/2000/svg%27%20version=%271.1%27%20width=%2725%27%20height=%2725%27/%3e\" style=\"display:block;max-width:100%;width:initial;height:initial;background:none;opacity:1;border:0;margin:0;padding:0\"/>,\n",
       " <img alt=\"compiler-img\" class=\"\" data-nimg=\"intrinsic\" decoding=\"async\" src=\"data:image/gif;base64,R0lGODlhAQABAIAAAAAAAP///yH5BAEAAAAALAAAAAABAAEAAAIBRAA7\" style=\"position:absolute;top:0;left:0;bottom:0;right:0;box-sizing:border-box;padding:0;border:none;margin:auto;display:block;width:0;height:0;min-width:100%;max-width:100%;min-height:100%;max-height:100%\"/>,\n",
       " <img alt=\"compiler-img\" class=\"\" data-nimg=\"intrinsic\" decoding=\"async\" loading=\"lazy\" src=\"https://d20evgacl8spoj.cloudfront.net/uploads/images/study-material-compiler/f60ffd71-5b88-42f8-8396-75ad661dd4e9-1664191180.svg\" srcset=\"https://d20evgacl8spoj.cloudfront.net/uploads/images/study-material-compiler/f60ffd71-5b88-42f8-8396-75ad661dd4e9-1664191180.svg 1x, https://d20evgacl8spoj.cloudfront.net/uploads/images/study-material-compiler/f60ffd71-5b88-42f8-8396-75ad661dd4e9-1664191180.svg 2x\" style=\"position:absolute;top:0;left:0;bottom:0;right:0;box-sizing:border-box;padding:0;border:none;margin:auto;display:block;width:0;height:0;min-width:100%;max-width:100%;min-height:100%;max-height:100%\"/>,\n",
       " <img alt=\"\" aria-hidden=\"true\" src=\"data:image/svg+xml,%3csvg%20xmlns=%27http://www.w3.org/2000/svg%27%20version=%271.1%27%20width=%2725%27%20height=%2725%27/%3e\" style=\"display:block;max-width:100%;width:initial;height:initial;background:none;opacity:1;border:0;margin:0;padding:0\"/>,\n",
       " <img alt=\"compiler-img\" class=\"\" data-nimg=\"intrinsic\" decoding=\"async\" src=\"data:image/gif;base64,R0lGODlhAQABAIAAAAAAAP///yH5BAEAAAAALAAAAAABAAEAAAIBRAA7\" style=\"position:absolute;top:0;left:0;bottom:0;right:0;box-sizing:border-box;padding:0;border:none;margin:auto;display:block;width:0;height:0;min-width:100%;max-width:100%;min-height:100%;max-height:100%\"/>,\n",
       " <img alt=\"compiler-img\" class=\"\" data-nimg=\"intrinsic\" decoding=\"async\" loading=\"lazy\" src=\"https://d20evgacl8spoj.cloudfront.net/uploads/images/study-material-compiler/b5be3eb0-8ae8-4e22-97c9-0cdcb2a250e4-1664191183.svg\" srcset=\"https://d20evgacl8spoj.cloudfront.net/uploads/images/study-material-compiler/b5be3eb0-8ae8-4e22-97c9-0cdcb2a250e4-1664191183.svg 1x, https://d20evgacl8spoj.cloudfront.net/uploads/images/study-material-compiler/b5be3eb0-8ae8-4e22-97c9-0cdcb2a250e4-1664191183.svg 2x\" style=\"position:absolute;top:0;left:0;bottom:0;right:0;box-sizing:border-box;padding:0;border:none;margin:auto;display:block;width:0;height:0;min-width:100%;max-width:100%;min-height:100%;max-height:100%\"/>,\n",
       " <img alt=\"\" aria-hidden=\"true\" src=\"data:image/svg+xml,%3csvg%20xmlns=%27http://www.w3.org/2000/svg%27%20version=%271.1%27%20width=%2725%27%20height=%2725%27/%3e\" style=\"display:block;max-width:100%;width:initial;height:initial;background:none;opacity:1;border:0;margin:0;padding:0\"/>,\n",
       " <img alt=\"compiler-img\" class=\"\" data-nimg=\"intrinsic\" decoding=\"async\" src=\"data:image/gif;base64,R0lGODlhAQABAIAAAAAAAP///yH5BAEAAAAALAAAAAABAAEAAAIBRAA7\" style=\"position:absolute;top:0;left:0;bottom:0;right:0;box-sizing:border-box;padding:0;border:none;margin:auto;display:block;width:0;height:0;min-width:100%;max-width:100%;min-height:100%;max-height:100%\"/>,\n",
       " <img alt=\"compiler-img\" class=\"\" data-nimg=\"intrinsic\" decoding=\"async\" loading=\"lazy\" src=\"https://d20evgacl8spoj.cloudfront.net/uploads/images/study-material-compiler/329300da-2f51-419c-be8e-58262e91fac0-1664257495.svg\" srcset=\"https://d20evgacl8spoj.cloudfront.net/uploads/images/study-material-compiler/329300da-2f51-419c-be8e-58262e91fac0-1664257495.svg 1x, https://d20evgacl8spoj.cloudfront.net/uploads/images/study-material-compiler/329300da-2f51-419c-be8e-58262e91fac0-1664257495.svg 2x\" style=\"position:absolute;top:0;left:0;bottom:0;right:0;box-sizing:border-box;padding:0;border:none;margin:auto;display:block;width:0;height:0;min-width:100%;max-width:100%;min-height:100%;max-height:100%\"/>,\n",
       " <img alt=\"\" aria-hidden=\"true\" src=\"data:image/svg+xml,%3csvg%20xmlns=%27http://www.w3.org/2000/svg%27%20version=%271.1%27%20width=%2725%27%20height=%2725%27/%3e\" style=\"display:block;max-width:100%;width:initial;height:initial;background:none;opacity:1;border:0;margin:0;padding:0\"/>,\n",
       " <img alt=\"compiler-img\" class=\"\" data-nimg=\"intrinsic\" decoding=\"async\" src=\"data:image/gif;base64,R0lGODlhAQABAIAAAAAAAP///yH5BAEAAAAALAAAAAABAAEAAAIBRAA7\" style=\"position:absolute;top:0;left:0;bottom:0;right:0;box-sizing:border-box;padding:0;border:none;margin:auto;display:block;width:0;height:0;min-width:100%;max-width:100%;min-height:100%;max-height:100%\"/>,\n",
       " <img alt=\"compiler-img\" class=\"\" data-nimg=\"intrinsic\" decoding=\"async\" loading=\"lazy\" src=\"https://d20evgacl8spoj.cloudfront.net/uploads/images/study-material-compiler/da172d80-2fd9-4c25-a180-5c4d7ef1b13b-1663998203.svg\" srcset=\"https://d20evgacl8spoj.cloudfront.net/uploads/images/study-material-compiler/da172d80-2fd9-4c25-a180-5c4d7ef1b13b-1663998203.svg 1x, https://d20evgacl8spoj.cloudfront.net/uploads/images/study-material-compiler/da172d80-2fd9-4c25-a180-5c4d7ef1b13b-1663998203.svg 2x\" style=\"position:absolute;top:0;left:0;bottom:0;right:0;box-sizing:border-box;padding:0;border:none;margin:auto;display:block;width:0;height:0;min-width:100%;max-width:100%;min-height:100%;max-height:100%\"/>,\n",
       " <img alt=\"\" aria-hidden=\"true\" src=\"data:image/svg+xml,%3csvg%20xmlns=%27http://www.w3.org/2000/svg%27%20version=%271.1%27%20width=%2725%27%20height=%2725%27/%3e\" style=\"display:block;max-width:100%;width:initial;height:initial;background:none;opacity:1;border:0;margin:0;padding:0\"/>,\n",
       " <img alt=\"compiler-img\" class=\"\" data-nimg=\"intrinsic\" decoding=\"async\" src=\"data:image/gif;base64,R0lGODlhAQABAIAAAAAAAP///yH5BAEAAAAALAAAAAABAAEAAAIBRAA7\" style=\"position:absolute;top:0;left:0;bottom:0;right:0;box-sizing:border-box;padding:0;border:none;margin:auto;display:block;width:0;height:0;min-width:100%;max-width:100%;min-height:100%;max-height:100%\"/>,\n",
       " <img alt=\"compiler-img\" class=\"\" data-nimg=\"intrinsic\" decoding=\"async\" loading=\"lazy\" src=\"https://d20evgacl8spoj.cloudfront.net/uploads/images/study-material-compiler/ac77b308-23fd-4c41-a26c-c5df53f7e1a0-1664257491.svg\" srcset=\"https://d20evgacl8spoj.cloudfront.net/uploads/images/study-material-compiler/ac77b308-23fd-4c41-a26c-c5df53f7e1a0-1664257491.svg 1x, https://d20evgacl8spoj.cloudfront.net/uploads/images/study-material-compiler/ac77b308-23fd-4c41-a26c-c5df53f7e1a0-1664257491.svg 2x\" style=\"position:absolute;top:0;left:0;bottom:0;right:0;box-sizing:border-box;padding:0;border:none;margin:auto;display:block;width:0;height:0;min-width:100%;max-width:100%;min-height:100%;max-height:100%\"/>,\n",
       " <img alt=\"\" aria-hidden=\"true\" src=\"data:image/svg+xml,%3csvg%20xmlns=%27http://www.w3.org/2000/svg%27%20version=%271.1%27%20width=%2725%27%20height=%2725%27/%3e\" style=\"display:block;max-width:100%;width:initial;height:initial;background:none;opacity:1;border:0;margin:0;padding:0\"/>,\n",
       " <img alt=\"compiler-img\" class=\"\" data-nimg=\"intrinsic\" decoding=\"async\" src=\"data:image/gif;base64,R0lGODlhAQABAIAAAAAAAP///yH5BAEAAAAALAAAAAABAAEAAAIBRAA7\" style=\"position:absolute;top:0;left:0;bottom:0;right:0;box-sizing:border-box;padding:0;border:none;margin:auto;display:block;width:0;height:0;min-width:100%;max-width:100%;min-height:100%;max-height:100%\"/>,\n",
       " <img alt=\"compiler-img\" class=\"\" data-nimg=\"intrinsic\" decoding=\"async\" loading=\"lazy\" src=\"https://d20evgacl8spoj.cloudfront.net/uploads/images/study-material-compiler/0348b25c-17b7-4ade-962b-d71fd3753814-1663998384.svg\" srcset=\"https://d20evgacl8spoj.cloudfront.net/uploads/images/study-material-compiler/0348b25c-17b7-4ade-962b-d71fd3753814-1663998384.svg 1x, https://d20evgacl8spoj.cloudfront.net/uploads/images/study-material-compiler/0348b25c-17b7-4ade-962b-d71fd3753814-1663998384.svg 2x\" style=\"position:absolute;top:0;left:0;bottom:0;right:0;box-sizing:border-box;padding:0;border:none;margin:auto;display:block;width:0;height:0;min-width:100%;max-width:100%;min-height:100%;max-height:100%\"/>,\n",
       " <img alt=\"\" aria-hidden=\"true\" src=\"data:image/svg+xml,%3csvg%20xmlns=%27http://www.w3.org/2000/svg%27%20version=%271.1%27%20width=%2725%27%20height=%2725%27/%3e\" style=\"display:block;max-width:100%;width:initial;height:initial;background:none;opacity:1;border:0;margin:0;padding:0\"/>,\n",
       " <img alt=\"compiler-img\" class=\"\" data-nimg=\"intrinsic\" decoding=\"async\" src=\"data:image/gif;base64,R0lGODlhAQABAIAAAAAAAP///yH5BAEAAAAALAAAAAABAAEAAAIBRAA7\" style=\"position:absolute;top:0;left:0;bottom:0;right:0;box-sizing:border-box;padding:0;border:none;margin:auto;display:block;width:0;height:0;min-width:100%;max-width:100%;min-height:100%;max-height:100%\"/>,\n",
       " <img alt=\"compiler-img\" class=\"\" data-nimg=\"intrinsic\" decoding=\"async\" loading=\"lazy\" src=\"https://d20evgacl8spoj.cloudfront.net/uploads/images/study-material-compiler/6ead73cf-3385-44f1-a540-4f717fc7e467-1663998221.svg\" srcset=\"https://d20evgacl8spoj.cloudfront.net/uploads/images/study-material-compiler/6ead73cf-3385-44f1-a540-4f717fc7e467-1663998221.svg 1x, https://d20evgacl8spoj.cloudfront.net/uploads/images/study-material-compiler/6ead73cf-3385-44f1-a540-4f717fc7e467-1663998221.svg 2x\" style=\"position:absolute;top:0;left:0;bottom:0;right:0;box-sizing:border-box;padding:0;border:none;margin:auto;display:block;width:0;height:0;min-width:100%;max-width:100%;min-height:100%;max-height:100%\"/>,\n",
       " <img alt=\"https://d20evgacl8spoj.cloudfront.net/uploads/learning-course/images/lcourses/861b734d-1200-4ef9-9f80-fdcbf2d5918b-1654781169.png\" height=\"32\" src=\"https://d20evgacl8spoj.cloudfront.net/uploads/learning-course/images/lcourses/861b734d-1200-4ef9-9f80-fdcbf2d5918b-1654781169.png\" width=\"32\"/>,\n",
       " <img alt=\"https://d20evgacl8spoj.cloudfront.net/uploads/learning-course/images/lcourses/99334bcb-06ec-402d-8461-a1d886d97b8e-1654319072.png\" height=\"32\" src=\"https://d20evgacl8spoj.cloudfront.net/uploads/learning-course/images/lcourses/99334bcb-06ec-402d-8461-a1d886d97b8e-1654319072.png\" width=\"32\"/>,\n",
       " <img alt=\"https://d20evgacl8spoj.cloudfront.net/uploads/learning-course/images/lcourses/28a317b0-5132-4aba-8a49-5ea970f23a49-1671862480.png\" height=\"32\" src=\"https://d20evgacl8spoj.cloudfront.net/uploads/learning-course/images/lcourses/28a317b0-5132-4aba-8a49-5ea970f23a49-1671862480.png\" width=\"32\"/>,\n",
       " <img alt=\"https://d20evgacl8spoj.cloudfront.net/uploads/learning-course/images/lcourses/6dee8d03-5667-4b32-b483-af2b62dcd8d3-1647338788.png\" height=\"32\" src=\"https://d20evgacl8spoj.cloudfront.net/uploads/learning-course/images/lcourses/6dee8d03-5667-4b32-b483-af2b62dcd8d3-1647338788.png\" width=\"32\"/>,\n",
       " <img alt=\"https://d20evgacl8spoj.cloudfront.net/uploads/learning-course/images/lcourses/7fd6b3ae-d77a-4e80-80bc-02b5b47c32df-1647346507.png\" height=\"32\" src=\"https://d20evgacl8spoj.cloudfront.net/uploads/learning-course/images/lcourses/7fd6b3ae-d77a-4e80-80bc-02b5b47c32df-1647346507.png\" width=\"32\"/>,\n",
       " <img alt=\"https://d20evgacl8spoj.cloudfront.net/uploads/learning-course/images/lcourses/283eae7c-8974-49f2-a0a5-e0ac4c0e9215-1647338853.png\" height=\"32\" src=\"https://d20evgacl8spoj.cloudfront.net/uploads/learning-course/images/lcourses/283eae7c-8974-49f2-a0a5-e0ac4c0e9215-1647338853.png\" width=\"32\"/>,\n",
       " <img alt=\"https://d20evgacl8spoj.cloudfront.net/uploads/learning-course/images/lcourses/777b9062-963f-41b9-b379-dbd7e45155ac-1647341118.png\" height=\"32\" src=\"https://d20evgacl8spoj.cloudfront.net/uploads/learning-course/images/lcourses/777b9062-963f-41b9-b379-dbd7e45155ac-1647341118.png\" width=\"32\"/>,\n",
       " <img alt=\"https://d20evgacl8spoj.cloudfront.net/uploads/learning-course/images/lcourses/a111d660-d0b6-404b-86e1-6b729fbdc179-1683633265.png\" height=\"32\" src=\"https://d20evgacl8spoj.cloudfront.net/uploads/learning-course/images/lcourses/a111d660-d0b6-404b-86e1-6b729fbdc179-1683633265.png\" width=\"32\"/>,\n",
       " <img alt=\"https://d20evgacl8spoj.cloudfront.net/uploads/learning-course/images/lcourses/bbbfd30a-e52d-4e03-ae5c-d76e95e7a22f-1647341152.png\" height=\"32\" src=\"https://d20evgacl8spoj.cloudfront.net/uploads/learning-course/images/lcourses/bbbfd30a-e52d-4e03-ae5c-d76e95e7a22f-1647341152.png\" width=\"32\"/>,\n",
       " <img alt=\"https://d20evgacl8spoj.cloudfront.net/uploads/learning-course/images/lcourses/1d92f6e0-6c73-4cfe-97af-6c1107cb3a81-1647346526.png\" height=\"32\" src=\"https://d20evgacl8spoj.cloudfront.net/uploads/learning-course/images/lcourses/1d92f6e0-6c73-4cfe-97af-6c1107cb3a81-1647346526.png\" width=\"32\"/>,\n",
       " <img alt=\"https://d20evgacl8spoj.cloudfront.net/uploads/learning-course/images/lcourses/6866b1dd-63f8-4890-8575-b9694a0f2059-1647346542.png\" height=\"32\" src=\"https://d20evgacl8spoj.cloudfront.net/uploads/learning-course/images/lcourses/6866b1dd-63f8-4890-8575-b9694a0f2059-1647346542.png\" width=\"32\"/>,\n",
       " <img alt=\"https://d20evgacl8spoj.cloudfront.net/uploads/learning-course/images/lcourses/6f00770a-cf1d-44e6-b68b-a6cbce05d35c-1647341196.png\" height=\"32\" src=\"https://d20evgacl8spoj.cloudfront.net/uploads/learning-course/images/lcourses/6f00770a-cf1d-44e6-b68b-a6cbce05d35c-1647341196.png\" width=\"32\"/>,\n",
       " <img alt=\"https://d20evgacl8spoj.cloudfront.net/uploads/learning-course/images/lcourses/6809478b-e2d9-40c4-bd9b-49af619fe51d-1647341184.png\" height=\"32\" src=\"https://d20evgacl8spoj.cloudfront.net/uploads/learning-course/images/lcourses/6809478b-e2d9-40c4-bd9b-49af619fe51d-1647341184.png\" width=\"32\"/>,\n",
       " <img alt=\"https://d20evgacl8spoj.cloudfront.net/uploads/learning-course/images/lcourses/6dee8d03-5667-4b32-b483-af2b62dcd8d3-1647338788.png\" height=\"32\" src=\"https://d20evgacl8spoj.cloudfront.net/uploads/learning-course/images/lcourses/6dee8d03-5667-4b32-b483-af2b62dcd8d3-1647338788.png\" width=\"32\"/>,\n",
       " <img alt=\"https://d20evgacl8spoj.cloudfront.net/uploads/learning-course/images/lcourses/7fd6b3ae-d77a-4e80-80bc-02b5b47c32df-1647346507.png\" height=\"32\" src=\"https://d20evgacl8spoj.cloudfront.net/uploads/learning-course/images/lcourses/7fd6b3ae-d77a-4e80-80bc-02b5b47c32df-1647346507.png\" width=\"32\"/>,\n",
       " <img alt=\"https://d20evgacl8spoj.cloudfront.net/uploads/learning-course/images/lcourses/283eae7c-8974-49f2-a0a5-e0ac4c0e9215-1647338853.png\" height=\"32\" src=\"https://d20evgacl8spoj.cloudfront.net/uploads/learning-course/images/lcourses/283eae7c-8974-49f2-a0a5-e0ac4c0e9215-1647338853.png\" width=\"32\"/>,\n",
       " <img alt=\"https://d20evgacl8spoj.cloudfront.net/uploads/learning-course/images/lcourses/bbbfd30a-e52d-4e03-ae5c-d76e95e7a22f-1647341152.png\" height=\"32\" src=\"https://d20evgacl8spoj.cloudfront.net/uploads/learning-course/images/lcourses/bbbfd30a-e52d-4e03-ae5c-d76e95e7a22f-1647341152.png\" width=\"32\"/>,\n",
       " <img alt=\"https://d20evgacl8spoj.cloudfront.net/uploads/learning-course/images/lcourses/1d92f6e0-6c73-4cfe-97af-6c1107cb3a81-1647346526.png\" height=\"32\" src=\"https://d20evgacl8spoj.cloudfront.net/uploads/learning-course/images/lcourses/1d92f6e0-6c73-4cfe-97af-6c1107cb3a81-1647346526.png\" width=\"32\"/>,\n",
       " <img alt=\"https://d20evgacl8spoj.cloudfront.net/uploads/learning-course/images/lcourses/6866b1dd-63f8-4890-8575-b9694a0f2059-1647346542.png\" height=\"32\" src=\"https://d20evgacl8spoj.cloudfront.net/uploads/learning-course/images/lcourses/6866b1dd-63f8-4890-8575-b9694a0f2059-1647346542.png\" width=\"32\"/>,\n",
       " <img alt=\"https://d20evgacl8spoj.cloudfront.net/uploads/learning-course/images/lcourses/2abdc9df-3185-46bb-8d15-48f957251183-1698927883.png\" height=\"32\" src=\"https://d20evgacl8spoj.cloudfront.net/uploads/learning-course/images/lcourses/2abdc9df-3185-46bb-8d15-48f957251183-1698927883.png\" width=\"32\"/>,\n",
       " <img alt=\"https://d20evgacl8spoj.cloudfront.net/uploads/learning-course/images/lcourses/a111d660-d0b6-404b-86e1-6b729fbdc179-1683633265.png\" height=\"32\" src=\"https://d20evgacl8spoj.cloudfront.net/uploads/learning-course/images/lcourses/a111d660-d0b6-404b-86e1-6b729fbdc179-1683633265.png\" width=\"32\"/>,\n",
       " <img alt=\"https://d20evgacl8spoj.cloudfront.net/uploads/learning-course/images/lcourses/bbbfd30a-e52d-4e03-ae5c-d76e95e7a22f-1647341152.png\" height=\"32\" src=\"https://d20evgacl8spoj.cloudfront.net/uploads/learning-course/images/lcourses/bbbfd30a-e52d-4e03-ae5c-d76e95e7a22f-1647341152.png\" width=\"32\"/>,\n",
       " <img class=\"img-fluid\" height=\"40\" src=\"/images/ws-cube-tech-logo.svg\" width=\"210\"/>,\n",
       " <img class=\"img-fluid w-100\" src=\"https://d20evgacl8spoj.cloudfront.net/uploads/images/live-course/efd015c2-41c7-4a6b-a070-0f703772b6b4-1706854302.jpg\"/>,\n",
       " <img class=\"img-fluid w-100\" src=\"https://d20evgacl8spoj.cloudfront.net/uploads/images/live-course/15bc3a4a-e684-45b9-b22a-d156711f1505-1706854288.jpg\"/>,\n",
       " <img class=\"img-fluid w-100\" src=\"https://d20evgacl8spoj.cloudfront.net/uploads/images/live-course/3bc94ced-cf7a-4d08-9a65-581c38fb14c2-1706854314.jpg\"/>,\n",
       " <img class=\"img-fluid w-100\" src=\"https://d20evgacl8spoj.cloudfront.net/uploads/images/live-course/60d7ca0f-7dc9-4d96-a9b5-155fd32ebda8-1706854405.jpg\"/>,\n",
       " <img class=\"img-fluid w-100\" src=\"https://d20evgacl8spoj.cloudfront.net/uploads/images/live-course/948a0a2c-3199-44b3-a1c2-be41e5c5c3e1-1706854606.jpg\"/>,\n",
       " <img class=\"img-fluid w-100\" src=\"https://d20evgacl8spoj.cloudfront.net/uploads/images/live-course/34497f12-312c-4827-8dae-7d7914314e74-1706854737.jpg\"/>,\n",
       " <img alt=\"Google-Play-Img\" src=\"/images/play-store.png\"/>,\n",
       " <img alt=\"Phone-Img\" class=\"img-fluid\" loading=\"lazy\" src=\"https://d20evgacl8spoj.cloudfront.net/uploads/learning-course/images/home-page/3d2ca30d-f3bd-45b7-aae5-2c547e2a35a2-1690631574.webp\"/>,\n",
       " <img alt=\"\" aria-hidden=\"true\" src=\"data:image/svg+xml,%3csvg%20xmlns=%27http://www.w3.org/2000/svg%27%20version=%271.1%27%20width=%27192%27%20height=%2756%27/%3e\" style=\"display:block;max-width:100%;width:initial;height:initial;background:none;opacity:1;border:0;margin:0;padding:0\"/>,\n",
       " <img alt=\"Logo-Img\" class=\"img-fluid\" data-nimg=\"intrinsic\" decoding=\"async\" src=\"data:image/gif;base64,R0lGODlhAQABAIAAAAAAAP///yH5BAEAAAAALAAAAAABAAEAAAIBRAA7\" style=\"position:absolute;top:0;left:0;bottom:0;right:0;box-sizing:border-box;padding:0;border:none;margin:auto;display:block;width:0;height:0;min-width:100%;max-width:100%;min-height:100%;max-height:100%\"/>,\n",
       " <img alt=\"Logo-Img\" class=\"img-fluid\" data-nimg=\"intrinsic\" decoding=\"async\" loading=\"lazy\" src=\"/images/tutorials-freak-logo.svg\" srcset=\"/images/tutorials-freak-logo.svg 1x, /images/tutorials-freak-logo.svg 2x\" style=\"position:absolute;top:0;left:0;bottom:0;right:0;box-sizing:border-box;padding:0;border:none;margin:auto;display:block;width:0;height:0;min-width:100%;max-width:100%;min-height:100%;max-height:100%\"/>]"
      ]
     },
     "execution_count": 34,
     "metadata": {},
     "output_type": "execute_result"
    }
   ],
   "source": [
    "img"
   ]
  },
  {
   "cell_type": "code",
   "execution_count": 36,
   "id": "24740c57-a0bd-4338-9701-3d2aa2847568",
   "metadata": {},
   "outputs": [
    {
     "name": "stdout",
     "output_type": "stream",
     "text": [
      "data:image/svg+xml,%3csvg%20xmlns=%27http://www.w3.org/2000/svg%27%20version=%271.1%27%20width=%27192%27%20height=%2756%27/%3e\n",
      "<class 'str'>\n",
      "data:image/gif;base64,R0lGODlhAQABAIAAAAAAAP///yH5BAEAAAAALAAAAAABAAEAAAIBRAA7\n",
      "<class 'str'>\n",
      "/images/tutorials-freak-logo.svg\n",
      "<class 'str'>\n",
      "/images/search.svg\n",
      "<class 'str'>\n",
      "data:image/gif;base64,R0lGODlhAQABAIAAAAAAAP///yH5BAEAAAAALAAAAAABAAEAAAIBRAA7\n",
      "<class 'str'>\n",
      "/_next/image?url=%2Fimages%2Fbanner-middle.webp&w=3840&q=75\n",
      "<class 'str'>\n",
      "/images/kotlin-img.svg\n",
      "<class 'str'>\n",
      "/images/eagle-img.svg\n",
      "<class 'str'>\n",
      "/images/apple-img.svg\n",
      "<class 'str'>\n",
      "/images/angular-img.svg\n",
      "<class 'str'>\n",
      "/images/python-img.svg\n",
      "<class 'str'>\n",
      "/images/react-img.svg\n",
      "<class 'str'>\n",
      "/images/android-img.svg\n",
      "<class 'str'>\n",
      "/images/java-img.svg\n",
      "<class 'str'>\n",
      "data:image/svg+xml,%3csvg%20xmlns=%27http://www.w3.org/2000/svg%27%20version=%271.1%27%20width=%2748%27%20height=%2748%27/%3e\n",
      "<class 'str'>\n",
      "data:image/gif;base64,R0lGODlhAQABAIAAAAAAAP///yH5BAEAAAAALAAAAAABAAEAAAIBRAA7\n",
      "<class 'str'>\n",
      "https://d20evgacl8spoj.cloudfront.net/uploads/learning-course/images/home-page/2cd6e0d7-4864-4837-a4a7-e0b120282e8d-1648197173.svg\n",
      "<class 'str'>\n",
      "data:image/svg+xml,%3csvg%20xmlns=%27http://www.w3.org/2000/svg%27%20version=%271.1%27%20width=%2748%27%20height=%2748%27/%3e\n",
      "<class 'str'>\n",
      "data:image/gif;base64,R0lGODlhAQABAIAAAAAAAP///yH5BAEAAAAALAAAAAABAAEAAAIBRAA7\n",
      "<class 'str'>\n",
      "https://d20evgacl8spoj.cloudfront.net/uploads/learning-course/images/home-page/e5eb78ac-30fd-4443-8f23-63bd378c0c01-1645691302.svg\n",
      "<class 'str'>\n",
      "data:image/svg+xml,%3csvg%20xmlns=%27http://www.w3.org/2000/svg%27%20version=%271.1%27%20width=%2748%27%20height=%2748%27/%3e\n",
      "<class 'str'>\n",
      "data:image/gif;base64,R0lGODlhAQABAIAAAAAAAP///yH5BAEAAAAALAAAAAABAAEAAAIBRAA7\n",
      "<class 'str'>\n",
      "https://d20evgacl8spoj.cloudfront.net/uploads/learning-course/images/home-page/7f47bf14-d748-40f4-b9a5-921b1bb4df3f-1648197078.svg\n",
      "<class 'str'>\n",
      "/images/compilor.webp\n",
      "<class 'str'>\n",
      "data:image/svg+xml,%3csvg%20xmlns=%27http://www.w3.org/2000/svg%27%20version=%271.1%27%20width=%2725%27%20height=%2725%27/%3e\n",
      "<class 'str'>\n",
      "data:image/gif;base64,R0lGODlhAQABAIAAAAAAAP///yH5BAEAAAAALAAAAAABAAEAAAIBRAA7\n",
      "<class 'str'>\n",
      "https://d20evgacl8spoj.cloudfront.net/uploads/images/study-material-compiler/f60ffd71-5b88-42f8-8396-75ad661dd4e9-1664191180.svg\n",
      "<class 'str'>\n",
      "data:image/svg+xml,%3csvg%20xmlns=%27http://www.w3.org/2000/svg%27%20version=%271.1%27%20width=%2725%27%20height=%2725%27/%3e\n",
      "<class 'str'>\n",
      "data:image/gif;base64,R0lGODlhAQABAIAAAAAAAP///yH5BAEAAAAALAAAAAABAAEAAAIBRAA7\n",
      "<class 'str'>\n",
      "https://d20evgacl8spoj.cloudfront.net/uploads/images/study-material-compiler/b5be3eb0-8ae8-4e22-97c9-0cdcb2a250e4-1664191183.svg\n",
      "<class 'str'>\n",
      "data:image/svg+xml,%3csvg%20xmlns=%27http://www.w3.org/2000/svg%27%20version=%271.1%27%20width=%2725%27%20height=%2725%27/%3e\n",
      "<class 'str'>\n",
      "data:image/gif;base64,R0lGODlhAQABAIAAAAAAAP///yH5BAEAAAAALAAAAAABAAEAAAIBRAA7\n",
      "<class 'str'>\n",
      "https://d20evgacl8spoj.cloudfront.net/uploads/images/study-material-compiler/329300da-2f51-419c-be8e-58262e91fac0-1664257495.svg\n",
      "<class 'str'>\n",
      "data:image/svg+xml,%3csvg%20xmlns=%27http://www.w3.org/2000/svg%27%20version=%271.1%27%20width=%2725%27%20height=%2725%27/%3e\n",
      "<class 'str'>\n",
      "data:image/gif;base64,R0lGODlhAQABAIAAAAAAAP///yH5BAEAAAAALAAAAAABAAEAAAIBRAA7\n",
      "<class 'str'>\n",
      "https://d20evgacl8spoj.cloudfront.net/uploads/images/study-material-compiler/da172d80-2fd9-4c25-a180-5c4d7ef1b13b-1663998203.svg\n",
      "<class 'str'>\n",
      "data:image/svg+xml,%3csvg%20xmlns=%27http://www.w3.org/2000/svg%27%20version=%271.1%27%20width=%2725%27%20height=%2725%27/%3e\n",
      "<class 'str'>\n",
      "data:image/gif;base64,R0lGODlhAQABAIAAAAAAAP///yH5BAEAAAAALAAAAAABAAEAAAIBRAA7\n",
      "<class 'str'>\n",
      "https://d20evgacl8spoj.cloudfront.net/uploads/images/study-material-compiler/ac77b308-23fd-4c41-a26c-c5df53f7e1a0-1664257491.svg\n",
      "<class 'str'>\n",
      "data:image/svg+xml,%3csvg%20xmlns=%27http://www.w3.org/2000/svg%27%20version=%271.1%27%20width=%2725%27%20height=%2725%27/%3e\n",
      "<class 'str'>\n",
      "data:image/gif;base64,R0lGODlhAQABAIAAAAAAAP///yH5BAEAAAAALAAAAAABAAEAAAIBRAA7\n",
      "<class 'str'>\n",
      "https://d20evgacl8spoj.cloudfront.net/uploads/images/study-material-compiler/0348b25c-17b7-4ade-962b-d71fd3753814-1663998384.svg\n",
      "<class 'str'>\n",
      "data:image/svg+xml,%3csvg%20xmlns=%27http://www.w3.org/2000/svg%27%20version=%271.1%27%20width=%2725%27%20height=%2725%27/%3e\n",
      "<class 'str'>\n",
      "data:image/gif;base64,R0lGODlhAQABAIAAAAAAAP///yH5BAEAAAAALAAAAAABAAEAAAIBRAA7\n",
      "<class 'str'>\n",
      "https://d20evgacl8spoj.cloudfront.net/uploads/images/study-material-compiler/6ead73cf-3385-44f1-a540-4f717fc7e467-1663998221.svg\n",
      "<class 'str'>\n",
      "https://d20evgacl8spoj.cloudfront.net/uploads/learning-course/images/lcourses/861b734d-1200-4ef9-9f80-fdcbf2d5918b-1654781169.png\n",
      "<class 'str'>\n",
      "https://d20evgacl8spoj.cloudfront.net/uploads/learning-course/images/lcourses/99334bcb-06ec-402d-8461-a1d886d97b8e-1654319072.png\n",
      "<class 'str'>\n",
      "https://d20evgacl8spoj.cloudfront.net/uploads/learning-course/images/lcourses/28a317b0-5132-4aba-8a49-5ea970f23a49-1671862480.png\n",
      "<class 'str'>\n",
      "https://d20evgacl8spoj.cloudfront.net/uploads/learning-course/images/lcourses/6dee8d03-5667-4b32-b483-af2b62dcd8d3-1647338788.png\n",
      "<class 'str'>\n",
      "https://d20evgacl8spoj.cloudfront.net/uploads/learning-course/images/lcourses/7fd6b3ae-d77a-4e80-80bc-02b5b47c32df-1647346507.png\n",
      "<class 'str'>\n",
      "https://d20evgacl8spoj.cloudfront.net/uploads/learning-course/images/lcourses/283eae7c-8974-49f2-a0a5-e0ac4c0e9215-1647338853.png\n",
      "<class 'str'>\n",
      "https://d20evgacl8spoj.cloudfront.net/uploads/learning-course/images/lcourses/777b9062-963f-41b9-b379-dbd7e45155ac-1647341118.png\n",
      "<class 'str'>\n",
      "https://d20evgacl8spoj.cloudfront.net/uploads/learning-course/images/lcourses/a111d660-d0b6-404b-86e1-6b729fbdc179-1683633265.png\n",
      "<class 'str'>\n",
      "https://d20evgacl8spoj.cloudfront.net/uploads/learning-course/images/lcourses/bbbfd30a-e52d-4e03-ae5c-d76e95e7a22f-1647341152.png\n",
      "<class 'str'>\n",
      "https://d20evgacl8spoj.cloudfront.net/uploads/learning-course/images/lcourses/1d92f6e0-6c73-4cfe-97af-6c1107cb3a81-1647346526.png\n",
      "<class 'str'>\n",
      "https://d20evgacl8spoj.cloudfront.net/uploads/learning-course/images/lcourses/6866b1dd-63f8-4890-8575-b9694a0f2059-1647346542.png\n",
      "<class 'str'>\n",
      "https://d20evgacl8spoj.cloudfront.net/uploads/learning-course/images/lcourses/6f00770a-cf1d-44e6-b68b-a6cbce05d35c-1647341196.png\n",
      "<class 'str'>\n",
      "https://d20evgacl8spoj.cloudfront.net/uploads/learning-course/images/lcourses/6809478b-e2d9-40c4-bd9b-49af619fe51d-1647341184.png\n",
      "<class 'str'>\n",
      "https://d20evgacl8spoj.cloudfront.net/uploads/learning-course/images/lcourses/6dee8d03-5667-4b32-b483-af2b62dcd8d3-1647338788.png\n",
      "<class 'str'>\n",
      "https://d20evgacl8spoj.cloudfront.net/uploads/learning-course/images/lcourses/7fd6b3ae-d77a-4e80-80bc-02b5b47c32df-1647346507.png\n",
      "<class 'str'>\n",
      "https://d20evgacl8spoj.cloudfront.net/uploads/learning-course/images/lcourses/283eae7c-8974-49f2-a0a5-e0ac4c0e9215-1647338853.png\n",
      "<class 'str'>\n",
      "https://d20evgacl8spoj.cloudfront.net/uploads/learning-course/images/lcourses/bbbfd30a-e52d-4e03-ae5c-d76e95e7a22f-1647341152.png\n",
      "<class 'str'>\n",
      "https://d20evgacl8spoj.cloudfront.net/uploads/learning-course/images/lcourses/1d92f6e0-6c73-4cfe-97af-6c1107cb3a81-1647346526.png\n",
      "<class 'str'>\n",
      "https://d20evgacl8spoj.cloudfront.net/uploads/learning-course/images/lcourses/6866b1dd-63f8-4890-8575-b9694a0f2059-1647346542.png\n",
      "<class 'str'>\n",
      "https://d20evgacl8spoj.cloudfront.net/uploads/learning-course/images/lcourses/2abdc9df-3185-46bb-8d15-48f957251183-1698927883.png\n",
      "<class 'str'>\n",
      "https://d20evgacl8spoj.cloudfront.net/uploads/learning-course/images/lcourses/a111d660-d0b6-404b-86e1-6b729fbdc179-1683633265.png\n",
      "<class 'str'>\n",
      "https://d20evgacl8spoj.cloudfront.net/uploads/learning-course/images/lcourses/bbbfd30a-e52d-4e03-ae5c-d76e95e7a22f-1647341152.png\n",
      "<class 'str'>\n",
      "/images/ws-cube-tech-logo.svg\n",
      "<class 'str'>\n",
      "https://d20evgacl8spoj.cloudfront.net/uploads/images/live-course/efd015c2-41c7-4a6b-a070-0f703772b6b4-1706854302.jpg\n",
      "<class 'str'>\n",
      "https://d20evgacl8spoj.cloudfront.net/uploads/images/live-course/15bc3a4a-e684-45b9-b22a-d156711f1505-1706854288.jpg\n",
      "<class 'str'>\n",
      "https://d20evgacl8spoj.cloudfront.net/uploads/images/live-course/3bc94ced-cf7a-4d08-9a65-581c38fb14c2-1706854314.jpg\n",
      "<class 'str'>\n",
      "https://d20evgacl8spoj.cloudfront.net/uploads/images/live-course/60d7ca0f-7dc9-4d96-a9b5-155fd32ebda8-1706854405.jpg\n",
      "<class 'str'>\n",
      "https://d20evgacl8spoj.cloudfront.net/uploads/images/live-course/948a0a2c-3199-44b3-a1c2-be41e5c5c3e1-1706854606.jpg\n",
      "<class 'str'>\n",
      "https://d20evgacl8spoj.cloudfront.net/uploads/images/live-course/34497f12-312c-4827-8dae-7d7914314e74-1706854737.jpg\n",
      "<class 'str'>\n",
      "/images/play-store.png\n",
      "<class 'str'>\n",
      "https://d20evgacl8spoj.cloudfront.net/uploads/learning-course/images/home-page/3d2ca30d-f3bd-45b7-aae5-2c547e2a35a2-1690631574.webp\n",
      "<class 'str'>\n",
      "data:image/svg+xml,%3csvg%20xmlns=%27http://www.w3.org/2000/svg%27%20version=%271.1%27%20width=%27192%27%20height=%2756%27/%3e\n",
      "<class 'str'>\n",
      "data:image/gif;base64,R0lGODlhAQABAIAAAAAAAP///yH5BAEAAAAALAAAAAABAAEAAAIBRAA7\n",
      "<class 'str'>\n",
      "/images/tutorials-freak-logo.svg\n",
      "<class 'str'>\n"
     ]
    }
   ],
   "source": [
    "for i in img: \n",
    "    print(i.get(\"src\"))\n",
    "    print(type(i.get(\"src\")))"
   ]
  },
  {
   "cell_type": "code",
   "execution_count": 37,
   "id": "cded6ec6-7e38-4097-9b84-68e4d52b0474",
   "metadata": {},
   "outputs": [
    {
     "name": "stdout",
     "output_type": "stream",
     "text": [
      "\n",
      "Logo-Img\n",
      "Logo-Img\n",
      "Serch-Img\n",
      "Banner-Img\n",
      "Banner-Img\n",
      "Course-Img\n",
      "Course-Img\n",
      "Course-Img\n",
      "Course-Img\n",
      "Course-Img\n",
      "Course-Img\n",
      "Course-Img\n",
      "Course-Img\n",
      "\n",
      "Why-Choose-Img\n",
      "Why-Choose-Img\n",
      "\n",
      "Why-Choose-Img\n",
      "Why-Choose-Img\n",
      "\n",
      "Why-Choose-Img\n",
      "Why-Choose-Img\n",
      "\n",
      "\n",
      "compiler-img\n",
      "compiler-img\n",
      "\n",
      "compiler-img\n",
      "compiler-img\n",
      "\n",
      "compiler-img\n",
      "compiler-img\n",
      "\n",
      "compiler-img\n",
      "compiler-img\n",
      "\n",
      "compiler-img\n",
      "compiler-img\n",
      "\n",
      "compiler-img\n",
      "compiler-img\n",
      "\n",
      "compiler-img\n",
      "compiler-img\n",
      "https://d20evgacl8spoj.cloudfront.net/uploads/learning-course/images/lcourses/861b734d-1200-4ef9-9f80-fdcbf2d5918b-1654781169.png\n",
      "https://d20evgacl8spoj.cloudfront.net/uploads/learning-course/images/lcourses/99334bcb-06ec-402d-8461-a1d886d97b8e-1654319072.png\n",
      "https://d20evgacl8spoj.cloudfront.net/uploads/learning-course/images/lcourses/28a317b0-5132-4aba-8a49-5ea970f23a49-1671862480.png\n",
      "https://d20evgacl8spoj.cloudfront.net/uploads/learning-course/images/lcourses/6dee8d03-5667-4b32-b483-af2b62dcd8d3-1647338788.png\n",
      "https://d20evgacl8spoj.cloudfront.net/uploads/learning-course/images/lcourses/7fd6b3ae-d77a-4e80-80bc-02b5b47c32df-1647346507.png\n",
      "https://d20evgacl8spoj.cloudfront.net/uploads/learning-course/images/lcourses/283eae7c-8974-49f2-a0a5-e0ac4c0e9215-1647338853.png\n",
      "https://d20evgacl8spoj.cloudfront.net/uploads/learning-course/images/lcourses/777b9062-963f-41b9-b379-dbd7e45155ac-1647341118.png\n",
      "https://d20evgacl8spoj.cloudfront.net/uploads/learning-course/images/lcourses/a111d660-d0b6-404b-86e1-6b729fbdc179-1683633265.png\n",
      "https://d20evgacl8spoj.cloudfront.net/uploads/learning-course/images/lcourses/bbbfd30a-e52d-4e03-ae5c-d76e95e7a22f-1647341152.png\n",
      "https://d20evgacl8spoj.cloudfront.net/uploads/learning-course/images/lcourses/1d92f6e0-6c73-4cfe-97af-6c1107cb3a81-1647346526.png\n",
      "https://d20evgacl8spoj.cloudfront.net/uploads/learning-course/images/lcourses/6866b1dd-63f8-4890-8575-b9694a0f2059-1647346542.png\n",
      "https://d20evgacl8spoj.cloudfront.net/uploads/learning-course/images/lcourses/6f00770a-cf1d-44e6-b68b-a6cbce05d35c-1647341196.png\n",
      "https://d20evgacl8spoj.cloudfront.net/uploads/learning-course/images/lcourses/6809478b-e2d9-40c4-bd9b-49af619fe51d-1647341184.png\n",
      "https://d20evgacl8spoj.cloudfront.net/uploads/learning-course/images/lcourses/6dee8d03-5667-4b32-b483-af2b62dcd8d3-1647338788.png\n",
      "https://d20evgacl8spoj.cloudfront.net/uploads/learning-course/images/lcourses/7fd6b3ae-d77a-4e80-80bc-02b5b47c32df-1647346507.png\n",
      "https://d20evgacl8spoj.cloudfront.net/uploads/learning-course/images/lcourses/283eae7c-8974-49f2-a0a5-e0ac4c0e9215-1647338853.png\n",
      "https://d20evgacl8spoj.cloudfront.net/uploads/learning-course/images/lcourses/bbbfd30a-e52d-4e03-ae5c-d76e95e7a22f-1647341152.png\n",
      "https://d20evgacl8spoj.cloudfront.net/uploads/learning-course/images/lcourses/1d92f6e0-6c73-4cfe-97af-6c1107cb3a81-1647346526.png\n",
      "https://d20evgacl8spoj.cloudfront.net/uploads/learning-course/images/lcourses/6866b1dd-63f8-4890-8575-b9694a0f2059-1647346542.png\n",
      "https://d20evgacl8spoj.cloudfront.net/uploads/learning-course/images/lcourses/2abdc9df-3185-46bb-8d15-48f957251183-1698927883.png\n",
      "https://d20evgacl8spoj.cloudfront.net/uploads/learning-course/images/lcourses/a111d660-d0b6-404b-86e1-6b729fbdc179-1683633265.png\n",
      "https://d20evgacl8spoj.cloudfront.net/uploads/learning-course/images/lcourses/bbbfd30a-e52d-4e03-ae5c-d76e95e7a22f-1647341152.png\n",
      "None\n",
      "None\n",
      "None\n",
      "None\n",
      "None\n",
      "None\n",
      "None\n",
      "Google-Play-Img\n",
      "Phone-Img\n",
      "\n",
      "Logo-Img\n",
      "Logo-Img\n"
     ]
    }
   ],
   "source": [
    "# finding alternative name for images \n",
    "\n",
    "for i in img: \n",
    "    print(i.get(\"alt\"))"
   ]
  },
  {
   "cell_type": "code",
   "execution_count": null,
   "id": "444434f2-9804-4d9a-84e0-52807dc477c4",
   "metadata": {},
   "outputs": [],
   "source": []
  }
 ],
 "metadata": {
  "kernelspec": {
   "display_name": "Python 3 (ipykernel)",
   "language": "python",
   "name": "python3"
  },
  "language_info": {
   "codemirror_mode": {
    "name": "ipython",
    "version": 3
   },
   "file_extension": ".py",
   "mimetype": "text/x-python",
   "name": "python",
   "nbconvert_exporter": "python",
   "pygments_lexer": "ipython3",
   "version": "3.12.7"
  }
 },
 "nbformat": 4,
 "nbformat_minor": 5
}
