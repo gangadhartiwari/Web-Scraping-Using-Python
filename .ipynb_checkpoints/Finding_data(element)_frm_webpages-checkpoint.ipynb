{
 "cells": [
  {
   "cell_type": "markdown",
   "id": "d4a52ea6-aa37-4b34-a3b1-d8af7f5f8ccc",
   "metadata": {},
   "source": [
    "<h2 style = \"color:yellow\">Finding Elements in Web Pages using Python</h2>"
   ]
  },
  {
   "cell_type": "markdown",
   "id": "94e87a16-1dc1-4dd6-90d0-416d56bddb18",
   "metadata": {},
   "source": [
    "<h3 style = \"color:aqua\">--> Finding Elements By Class</h3>"
   ]
  },
  {
   "cell_type": "code",
   "execution_count": null,
   "id": "82db61f6-ff17-44e9-879d-3df4371612a9",
   "metadata": {},
   "outputs": [],
   "source": [
    "# importing necessary module or class\n",
    "\n",
    "import requests\n",
    "from bs4 import BeautifulSoup"
   ]
  },
  {
   "cell_type": "code",
   "execution_count": 2,
   "id": "d0029fc9-6157-4b57-992a-1c962efaecd2",
   "metadata": {},
   "outputs": [
    {
     "data": {
      "text/plain": [
       "<Response [200]>"
      ]
     },
     "execution_count": 2,
     "metadata": {},
     "output_type": "execute_result"
    }
   ],
   "source": [
    "web = requests.get(\"https://www.tutorialsfreak.com/\")\n",
    "web     # Here the data is stored in web but not in structured format "
   ]
  },
  {
   "cell_type": "code",
   "execution_count": 5,
   "id": "6c6de422-f828-491c-8b92-587399a0e6b3",
   "metadata": {},
   "outputs": [],
   "source": [
    "soup = BeautifulSoup(web.content, \"html.parser\")   "
   ]
  },
  {
   "cell_type": "code",
   "execution_count": 21,
   "id": "cbaa620c-9cdb-433f-bd27-b914490688ac",
   "metadata": {},
   "outputs": [],
   "source": [
    "# print(soup.prettify())     # beutify the data in tree structured"
   ]
  },
  {
   "cell_type": "code",
   "execution_count": 8,
   "id": "872dd7fa-f7f4-4db5-b333-2fa96c92b758",
   "metadata": {},
   "outputs": [
    {
     "data": {
      "text/plain": [
       "[<p class=\"section-subheading\">Kickstart effective learning with Tutorials Freak, with new content published every day.</p>,\n",
       " <p class=\"fs-16 fw-400 lh-24 label-color-1 card-text\">The entire content on the site is verified by pro developers and tech freaks.</p>,\n",
       " <p class=\"fs-16 fw-400 lh-24 label-color-1 card-text\">The entire content on the site is verified by pro developers and tech freaks. Enabling self-directed learning so that you can learn at your pace and shape your own path.</p>,\n",
       " <p class=\"fs-16 fw-400 lh-24 label-color-1 card-text\">Along with simplified tutorials, you get video content created by industry experts.</p>,\n",
       " <p class=\"fw-400 fs-20 lh-30 label-color-2 mb-lg-5\">Learning programming and technical things can be complex. We are here to make it easy with simple and interactive tutorials.</p>,\n",
       " <p class=\"section-subheading mb-0\">Learning programming and technical things can be complex. We are here to make it easy with simple and interactive tutorials.</p>,\n",
       " <p class=\"section-subheading mb-0\">Explore the expert-curated interview questions with answers.</p>,\n",
       " <p class=\"section-subheading mb-0\">Plenty of quizzes with time duration and skill assessment.</p>,\n",
       " <p class=\"section-subheading mb-0\">Find coding examples with programs, output, easy explanations, and videos.</p>,\n",
       " <p class=\"section-subheading mb-0\"><img class=\"img-fluid\" height=\"40\" src=\"/images/ws-cube-tech-logo.svg\" width=\"210\"/></p>,\n",
       " <p class=\"section-subheading pb-lg-5\">With an account, you get access to premium content and courses at no cost.</p>,\n",
       " <p class=\"section-subheading pe-md-5\">Download the app now to learn and practice hassle-free.</p>,\n",
       " <p class=\"fs-13 lh-24 label-color-1 mb-0 footer-content fw-500 text-center text-lg-end\">© <!-- --> Tutorials Freak . All Rights Reserved | Design By  <a class=\"text-decoration-none label-color-1 fw-400\" href=\"https://www.wscubetech.com/\" rel=\"noreferrer\" target=\"_blank\" title=\"WsCube Tech\">WsCube Tech</a></p>]"
      ]
     },
     "execution_count": 8,
     "metadata": {},
     "output_type": "execute_result"
    }
   ],
   "source": [
    "soup.find_all('p')"
   ]
  },
  {
   "cell_type": "code",
   "execution_count": 15,
   "id": "8580efe0-aa36-42fe-822f-b8f1955079df",
   "metadata": {},
   "outputs": [],
   "source": [
    "# if you want to get the data of an class then you have to do this \n",
    "\n",
    "class_data = soup.find(\"div\", class_ = \"wrapperr h-100\")"
   ]
  },
  {
   "cell_type": "code",
   "execution_count": 22,
   "id": "07f4814b-250f-452d-8aa8-f227e0bb57cd",
   "metadata": {},
   "outputs": [],
   "source": [
    "# class_data"
   ]
  },
  {
   "cell_type": "code",
   "execution_count": 17,
   "id": "e3c8519f-2d31-4aed-8386-ecf017eb4aad",
   "metadata": {},
   "outputs": [
    {
     "data": {
      "text/plain": [
       "[<p class=\"section-subheading\">Kickstart effective learning with Tutorials Freak, with new content published every day.</p>,\n",
       " <p class=\"fs-16 fw-400 lh-24 label-color-1 card-text\">The entire content on the site is verified by pro developers and tech freaks.</p>,\n",
       " <p class=\"fs-16 fw-400 lh-24 label-color-1 card-text\">The entire content on the site is verified by pro developers and tech freaks. Enabling self-directed learning so that you can learn at your pace and shape your own path.</p>,\n",
       " <p class=\"fs-16 fw-400 lh-24 label-color-1 card-text\">Along with simplified tutorials, you get video content created by industry experts.</p>,\n",
       " <p class=\"fw-400 fs-20 lh-30 label-color-2 mb-lg-5\">Learning programming and technical things can be complex. We are here to make it easy with simple and interactive tutorials.</p>,\n",
       " <p class=\"section-subheading mb-0\">Learning programming and technical things can be complex. We are here to make it easy with simple and interactive tutorials.</p>,\n",
       " <p class=\"section-subheading mb-0\">Explore the expert-curated interview questions with answers.</p>,\n",
       " <p class=\"section-subheading mb-0\">Plenty of quizzes with time duration and skill assessment.</p>,\n",
       " <p class=\"section-subheading mb-0\">Find coding examples with programs, output, easy explanations, and videos.</p>,\n",
       " <p class=\"section-subheading mb-0\"><img class=\"img-fluid\" height=\"40\" src=\"/images/ws-cube-tech-logo.svg\" width=\"210\"/></p>,\n",
       " <p class=\"section-subheading pb-lg-5\">With an account, you get access to premium content and courses at no cost.</p>,\n",
       " <p class=\"section-subheading pe-md-5\">Download the app now to learn and practice hassle-free.</p>,\n",
       " <p class=\"fs-13 lh-24 label-color-1 mb-0 footer-content fw-500 text-center text-lg-end\">© <!-- --> Tutorials Freak . All Rights Reserved | Design By  <a class=\"text-decoration-none label-color-1 fw-400\" href=\"https://www.wscubetech.com/\" rel=\"noreferrer\" target=\"_blank\" title=\"WsCube Tech\">WsCube Tech</a></p>]"
      ]
     },
     "execution_count": 17,
     "metadata": {},
     "output_type": "execute_result"
    }
   ],
   "source": [
    "class_data.find_all(\"p\")"
   ]
  },
  {
   "cell_type": "markdown",
   "id": "e9c6c746-2543-4eba-af9e-00eb09d2f759",
   "metadata": {},
   "source": [
    "<h3 style = \"color:aqua\">--> Finding Elements By ID</h3>"
   ]
  },
  {
   "cell_type": "code",
   "execution_count": 18,
   "id": "b7d51f1b-8da5-4259-8646-bdcb86d0f0e2",
   "metadata": {},
   "outputs": [],
   "source": [
    "id_data = soup.find(\"div\", id = \"__next\")"
   ]
  },
  {
   "cell_type": "code",
   "execution_count": 20,
   "id": "01aa60d9-a996-46b9-b746-deb916b95789",
   "metadata": {},
   "outputs": [
    {
     "data": {
      "text/plain": [
       "[<p class=\"section-subheading\">Kickstart effective learning with Tutorials Freak, with new content published every day.</p>,\n",
       " <p class=\"fs-16 fw-400 lh-24 label-color-1 card-text\">The entire content on the site is verified by pro developers and tech freaks.</p>,\n",
       " <p class=\"fs-16 fw-400 lh-24 label-color-1 card-text\">The entire content on the site is verified by pro developers and tech freaks. Enabling self-directed learning so that you can learn at your pace and shape your own path.</p>,\n",
       " <p class=\"fs-16 fw-400 lh-24 label-color-1 card-text\">Along with simplified tutorials, you get video content created by industry experts.</p>,\n",
       " <p class=\"fw-400 fs-20 lh-30 label-color-2 mb-lg-5\">Learning programming and technical things can be complex. We are here to make it easy with simple and interactive tutorials.</p>,\n",
       " <p class=\"section-subheading mb-0\">Learning programming and technical things can be complex. We are here to make it easy with simple and interactive tutorials.</p>,\n",
       " <p class=\"section-subheading mb-0\">Explore the expert-curated interview questions with answers.</p>,\n",
       " <p class=\"section-subheading mb-0\">Plenty of quizzes with time duration and skill assessment.</p>,\n",
       " <p class=\"section-subheading mb-0\">Find coding examples with programs, output, easy explanations, and videos.</p>,\n",
       " <p class=\"section-subheading mb-0\"><img class=\"img-fluid\" height=\"40\" src=\"/images/ws-cube-tech-logo.svg\" width=\"210\"/></p>,\n",
       " <p class=\"section-subheading pb-lg-5\">With an account, you get access to premium content and courses at no cost.</p>,\n",
       " <p class=\"section-subheading pe-md-5\">Download the app now to learn and practice hassle-free.</p>,\n",
       " <p class=\"fs-13 lh-24 label-color-1 mb-0 footer-content fw-500 text-center text-lg-end\">© <!-- --> Tutorials Freak . All Rights Reserved | Design By  <a class=\"text-decoration-none label-color-1 fw-400\" href=\"https://www.wscubetech.com/\" rel=\"noreferrer\" target=\"_blank\" title=\"WsCube Tech\">WsCube Tech</a></p>]"
      ]
     },
     "execution_count": 20,
     "metadata": {},
     "output_type": "execute_result"
    }
   ],
   "source": [
    "id_data.find_all(\"p\")"
   ]
  },
  {
   "cell_type": "code",
   "execution_count": null,
   "id": "8b033497-d866-4a98-a3a5-ed8a75c9530a",
   "metadata": {},
   "outputs": [],
   "source": []
  }
 ],
 "metadata": {
  "kernelspec": {
   "display_name": "Python 3 (ipykernel)",
   "language": "python",
   "name": "python3"
  },
  "language_info": {
   "codemirror_mode": {
    "name": "ipython",
    "version": 3
   },
   "file_extension": ".py",
   "mimetype": "text/x-python",
   "name": "python",
   "nbconvert_exporter": "python",
   "pygments_lexer": "ipython3",
   "version": "3.12.7"
  }
 },
 "nbformat": 4,
 "nbformat_minor": 5
}
